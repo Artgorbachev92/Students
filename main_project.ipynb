{
 "cells": [
  {
   "cell_type": "code",
   "execution_count": 39,
   "metadata": {},
   "outputs": [],
   "source": [
    "import pandahouse as ph\n",
    "import pandas as pd\n",
    "import seaborn as sns\n",
    "import numpy as np\n",
    "from scipy import stats\n",
    "import matplotlib.pyplot as plt\n",
    "from tqdm.auto import tqdm\n",
    "from scipy.stats import norm\n",
    "\n",
    "from urllib.parse import urlencode\n",
    "import requests"
   ]
  },
  {
   "cell_type": "code",
   "execution_count": 40,
   "metadata": {},
   "outputs": [],
   "source": [
    "# Функция для скачивания файла по переданной ссылке с яндекс диска\n",
    "def download_file(ref, sep=';'):\n",
    "    base_url = 'https://cloud-api.yandex.net/v1/disk/public/resources/download?'\n",
    "    \n",
    "    # Получаем загрузочную ссылку\n",
    "    final_url = base_url + urlencode(dict(public_key=ref))\n",
    "    response = requests.get(final_url)\n",
    "    download_url = response.json()['href']\n",
    "    download_response = requests.get(download_url)    \n",
    "    file = pd.read_csv(download_url, sep=sep)\n",
    "    return file"
   ]
  },
  {
   "cell_type": "code",
   "execution_count": null,
   "metadata": {},
   "outputs": [],
   "source": []
  },
  {
   "cell_type": "code",
   "execution_count": 41,
   "metadata": {},
   "outputs": [],
   "source": [
    "# Загруэаем файлы с яндекс диска \n",
    "groups = download_file('https://disk.yandex.ru/d/UhyYx41rTt3clQ')\n",
    "checks = download_file('https://disk.yandex.ru/d/pH1q-VqcxXjsVA')\n",
    "active_stud = download_file('https://disk.yandex.ru/d/Tbs44Bm6H_FwFQ', sep=',')"
   ]
  },
  {
   "cell_type": "code",
   "execution_count": 42,
   "metadata": {},
   "outputs": [
    {
     "data": {
      "text/html": [
       "<div>\n",
       "<style scoped>\n",
       "    .dataframe tbody tr th:only-of-type {\n",
       "        vertical-align: middle;\n",
       "    }\n",
       "\n",
       "    .dataframe tbody tr th {\n",
       "        vertical-align: top;\n",
       "    }\n",
       "\n",
       "    .dataframe thead th {\n",
       "        text-align: right;\n",
       "    }\n",
       "</style>\n",
       "<table border=\"1\" class=\"dataframe\">\n",
       "  <thead>\n",
       "    <tr style=\"text-align: right;\">\n",
       "      <th></th>\n",
       "      <th>paying_students</th>\n",
       "      <th>total_students</th>\n",
       "      <th>CR</th>\n",
       "      <th>ARPPU</th>\n",
       "    </tr>\n",
       "    <tr>\n",
       "      <th>grp</th>\n",
       "      <th></th>\n",
       "      <th></th>\n",
       "      <th></th>\n",
       "      <th></th>\n",
       "    </tr>\n",
       "  </thead>\n",
       "  <tbody>\n",
       "    <tr>\n",
       "      <th>A</th>\n",
       "      <td>78</td>\n",
       "      <td>1535</td>\n",
       "      <td>0.050814</td>\n",
       "      <td>933.589744</td>\n",
       "    </tr>\n",
       "    <tr>\n",
       "      <th>B</th>\n",
       "      <td>313</td>\n",
       "      <td>6793</td>\n",
       "      <td>0.046077</td>\n",
       "      <td>1255.827487</td>\n",
       "    </tr>\n",
       "  </tbody>\n",
       "</table>\n",
       "</div>"
      ],
      "text/plain": [
       "     paying_students  total_students        CR        ARPPU\n",
       "grp                                                        \n",
       "A                 78            1535  0.050814   933.589744\n",
       "B                313            6793  0.046077  1255.827487"
      ]
     },
     "execution_count": 42,
     "metadata": {},
     "output_type": "execute_result"
    }
   ],
   "source": [
    "# ЗАДАНИЕ №1\n",
    "# Делаем полную таблицу с активными студентами, в которой будет информация об их оплатах и о принадлежности к определенной группе\n",
    "full_active_stud = active_stud.merge(checks, how = 'left', on='student_id').merge(groups, left_on='student_id', right_on='id')\n",
    "full_active_stud['paying_students'] = full_active_stud['rev'] > 0\n",
    "\n",
    "# Создаем датафрейм только для платящих студентов \n",
    "# Обьединяем таблицу активных студентов с таблицей оплат только для тех id, по которым была оплата\n",
    "paying_users = active_stud.merge(checks, how = 'inner', on='student_id').merge(groups, left_on='student_id', right_on='id')\n",
    "    # Подсчет конверсий и общего количества студентов для каждой группы\n",
    "    \n",
    "group_stats = full_active_stud.groupby('grp').agg({\n",
    "        'paying_students': 'sum',  # Количество конверсий\n",
    "        'id': 'count'         # Общее количество студентов\n",
    "    })\n",
    "    # Переименовываем столбцы для ясности\n",
    "group_stats.columns = ['paying_students', 'total_students']\n",
    "    \n",
    "    # Рассчитываем CR\n",
    "group_stats['CR'] = group_stats['paying_students'] / group_stats['total_students']\n",
    "    # Рассчитываем ARPPU\n",
    "arppu = paying_users.groupby('grp').apply(lambda x: x['rev'].sum() / x['id'].nunique())\n",
    "group_stats['ARPPU'] = arppu\n",
    "group_stats"
   ]
  },
  {
   "cell_type": "code",
   "execution_count": 43,
   "metadata": {},
   "outputs": [
    {
     "name": "stdout",
     "output_type": "stream",
     "text": [
      "Z-статистика: 0.792\n",
      "p-значение: 0.428\n",
      "Результат статистически не значимый: конверсии в группах не отличаются.\n"
     ]
    }
   ],
   "source": [
    "#  ПЕРВОЙ МЕТРИКОЙ ВЫБИРАЕМ КОЭФФИЦИЕНТ КОНВЕРСИИ В ДВУХ ГРУППАХ\n",
    "# Формулируем гипотезы \n",
    "# Н0 - конверсии в группах не отличаются\n",
    "# Н1 - конверсии в группах различааются\n",
    "group_A_paid =  group_stats.paying_students[0] # Количество платящих студентов в группе А\n",
    "group_A_total = group_stats.total_students[0]  # Общее количество студентов в группе А\n",
    "group_B_paid = group_stats.paying_students[1] # Количество платящих студентов в группе B\n",
    "group_B_total = group_stats.total_students[1]   # Общее количество студентов в группе B\n",
    "\n",
    "# Коэффициенты конверсии\n",
    "p_A = group_A_paid / group_A_total\n",
    "p_B = group_B_paid / group_B_total\n",
    "\n",
    "# Общее количество студентов\n",
    "n_A = group_A_total\n",
    "n_B = group_B_total\n",
    "\n",
    "# Общее количество платящих студентов\n",
    "p_pooled = (group_A_paid + group_B_paid) / (n_A + n_B)\n",
    "\n",
    "# Стандартная ошибка разности пропорций\n",
    "se = np.sqrt(p_pooled * (1 - p_pooled) * (1/n_A + 1/n_B))\n",
    "\n",
    "# Z-статистика\n",
    "z = (p_A - p_B) / se\n",
    "\n",
    "# p-значение\n",
    "p_value = 2 * (1 - norm.cdf(np.abs(z)))\n",
    "\n",
    "print(f\"Z-статистика: {z:.3f}\")\n",
    "print(f\"p-значение: {p_value:.3f}\")\n",
    "\n",
    "# Интерпретация результата\n",
    "alpha = 0.05  # Уровень значимости\n",
    "if p_value < alpha:\n",
    "    print(\"Результат статистически значимый: конверсии в группах отличаются.\")\n",
    "else:\n",
    "    print(\"Результат статистически не значимый: конверсии в группах не отличаются.\")\n",
    "    \n",
    "#  ВЫВОД: РАЗЛИЧИЕ В КОЭФФИЦИЕНТАХ КОНВЕРСИИ В ДВУХ ГРУППАХ СТАТИСТИЧЕСКИ НА ЗНАЧИМО. \n",
    "# НА ОСНОВЕ ДАННОЙ МЕТРИКИ НЕЛЬЗЯ СДЕЛАТЬ ВЫВОД ОБ ЭФФЕКТИВНОСТИ НОВЫЙ МЕХАНИКИ ОПЛАТЫ УСЛУГ"
   ]
  },
  {
   "cell_type": "code",
   "execution_count": 72,
   "metadata": {},
   "outputs": [
    {
     "data": {
      "text/plain": [
       "[Text(0, 0.5, 'revenue'),\n",
       " Text(0.5, 0, 'group'),\n",
       " Text(0.5, 1.0, 'Revenue by group')]"
      ]
     },
     "execution_count": 72,
     "metadata": {},
     "output_type": "execute_result"
    },
    {
     "data": {
      "image/png": "[encoded data removed]",
      "text/plain": [
       "<Figure size 1440x432 with 2 Axes>"
      ]
     },
     "metadata": {},
     "output_type": "display_data"
    }
   ],
   "source": [
    "# Устанавливаем настройки графиков\n",
    "sns.set(font_scale = 1.3, rc={'figure.figsize':(20,6)})\n",
    "fig, ax = plt.subplots(nrows=1, ncols=2)\n",
    "\n",
    "#  Строим гистограмму суммы оплат по группам\n",
    "sns.histplot(data=full_active_stud, x=full_active_stud.rev, hue=\"grp\", ax=ax[0])\n",
    "ax[0].set(xlabel='revenue',title='Revenue')\n",
    "\n",
    "# Строим боксплот, визуальна видно разницу между двумя группами\n",
    "\n",
    "sns.boxplot(data=full_active_stud, x=\"grp\", y=\"rev\", ax=ax[1])\n",
    "ax[1].set(xlabel='group', ylabel='revenue', title='Revenue by group')"
   ]
  },
  {
   "cell_type": "code",
   "execution_count": 40,
   "metadata": {},
   "outputs": [],
   "source": []
  },
  {
   "cell_type": "code",
   "execution_count": 46,
   "metadata": {},
   "outputs": [
    {
     "name": "stdout",
     "output_type": "stream",
     "text": [
      "Результат статистически значимый: распределения в группах отличаются.\n"
     ]
    }
   ],
   "source": [
    "# Второй метрикой выбираем ARPPU - средний сумму трат каждого активного пользователя в каждой группе\n",
    "# Активным считается пользователь, который совершил оплату.\n",
    "# Так как на гистограмме видно, что траты студентов  в обеих группах не подчиняются нормальному распределению,\n",
    "# будем применять непараметрический тест Манна-Уитни\n",
    "\n",
    "# Формулируем гипотезы\n",
    "# Н0-распределения в группах не различаются\n",
    "# Н1 - распределения в группах статистически значимо различаются\n",
    "\n",
    "statistic, p_value = stats.mannwhitneyu(paying_users.query('grp==\"B\"').rev, paying_users.query('grp==\"A\"').rev, alternative='two-sided')\n",
    "alpha = 0.05  # Уровень значимости\n",
    "if p_value < alpha:\n",
    "    print(\"Результат статистически значимый: распределения в группах отличаются.\")\n",
    "else:\n",
    "    print(\"Результат статистически не значимый: распределения в группах не отличаются.\")\n",
    "\n",
    "#  ВЫВОД: НОВАЯ МЕХАНИКА СТАТИСТИЧЕСКИ ЗНАЧИМО УВЕЛИЧИВАЕТ СРЕДНИЙ ЧЕК. СТОИТ ПРИМЕНИТЬ ЕЕ НА ВСЕХ ПОЛЬЗОВАТЕЛЕЙ."
   ]
  },
  {
   "cell_type": "code",
   "execution_count": 48,
   "metadata": {},
   "outputs": [
    {
     "name": "stdout",
     "output_type": "stream",
     "text": [
      "Результат статистически значимый: средние в группах отличаются.\n"
     ]
    }
   ],
   "source": [
    "#  Несмотря на несоответствие распределений нормальному виду и учитывая большой обьем выборок,\n",
    "# дополнительно можно провести ттест. p-value меньше 5%, значит различия между группами статистически значимы\n",
    "statistic, p_value = stats.ttest_ind(paying_users.query('grp==\"B\"').rev, paying_users.query('grp==\"A\"').rev)\n",
    "\n",
    "alpha = 0.05  # Уровень значимости\n",
    "if p_value < alpha:\n",
    "    print(\"Результат статистически значимый: средние в группах отличаются.\")\n",
    "else:\n",
    "    print(\"Результат статистически не значимый: средние в группах не отличаются.\")\n",
    "# Т-тест показываем аналогичную ситуацию. Средние в двух группах статистически значимо отличаются."
   ]
  },
  {
   "cell_type": "code",
   "execution_count": null,
   "metadata": {},
   "outputs": [],
   "source": []
  },
  {
   "cell_type": "code",
   "execution_count": 73,
   "metadata": {},
   "outputs": [],
   "source": [
    "# ЗАДАНИЕ №2\n",
    "\n",
    "# Подключаемся к базе данных default в Clickhouse\n",
    "connection = {'host': 'https://clickhouse.lab.karpov.courses',\n",
    "                      'database':'default',\n",
    "                      'user':'student', \n",
    "                      'password':'dpo_python_2020'\n",
    "                     }"
   ]
  },
  {
   "cell_type": "code",
   "execution_count": 74,
   "metadata": {},
   "outputs": [
    {
     "data": {
      "text/html": [
       "<div>\n",
       "<style scoped>\n",
       "    .dataframe tbody tr th:only-of-type {\n",
       "        vertical-align: middle;\n",
       "    }\n",
       "\n",
       "    .dataframe tbody tr th {\n",
       "        vertical-align: top;\n",
       "    }\n",
       "\n",
       "    .dataframe thead th {\n",
       "        text-align: right;\n",
       "    }\n",
       "</style>\n",
       "<table border=\"1\" class=\"dataframe\">\n",
       "  <thead>\n",
       "    <tr style=\"text-align: right;\">\n",
       "      <th></th>\n",
       "      <th>count_smart_students</th>\n",
       "    </tr>\n",
       "  </thead>\n",
       "  <tbody>\n",
       "    <tr>\n",
       "      <th>0</th>\n",
       "      <td>130</td>\n",
       "    </tr>\n",
       "  </tbody>\n",
       "</table>\n",
       "</div>"
      ],
      "text/plain": [
       "   count_smart_students\n",
       "0                   130"
      ]
     },
     "execution_count": 74,
     "metadata": {},
     "output_type": "execute_result"
    }
   ],
   "source": [
    "# Запрос на получение количества прилежных студентов, у которых больше 20 верно решенных заданий\n",
    "query = \"\"\"\n",
    "select count(distinct st_id) as count_smart_students from peas\n",
    "where st_id in (\n",
    "    select st_id from peas\n",
    "    group by st_id\n",
    "    having sum(correct) > 20\n",
    ")\n",
    "\"\"\"\n",
    "df = ph.read_clickhouse(query, connection=connection)\n",
    "df"
   ]
  },
  {
   "cell_type": "code",
   "execution_count": 75,
   "metadata": {},
   "outputs": [
    {
     "data": {
      "text/html": [
       "<div>\n",
       "<style scoped>\n",
       "    .dataframe tbody tr th:only-of-type {\n",
       "        vertical-align: middle;\n",
       "    }\n",
       "\n",
       "    .dataframe tbody tr th {\n",
       "        vertical-align: top;\n",
       "    }\n",
       "\n",
       "    .dataframe thead th {\n",
       "        text-align: right;\n",
       "    }\n",
       "</style>\n",
       "<table border=\"1\" class=\"dataframe\">\n",
       "  <thead>\n",
       "    <tr style=\"text-align: right;\">\n",
       "      <th></th>\n",
       "      <th>test_grp</th>\n",
       "      <th>ARPU</th>\n",
       "      <th>ARPAU</th>\n",
       "      <th>CR</th>\n",
       "      <th>CR_active</th>\n",
       "      <th>CR_active_math</th>\n",
       "    </tr>\n",
       "  </thead>\n",
       "  <tbody>\n",
       "    <tr>\n",
       "      <th>0</th>\n",
       "      <td>control</td>\n",
       "      <td>4540.983607</td>\n",
       "      <td>10820.3125</td>\n",
       "      <td>0.049180</td>\n",
       "      <td>0.117188</td>\n",
       "      <td>0.080000</td>\n",
       "    </tr>\n",
       "    <tr>\n",
       "      <th>1</th>\n",
       "      <td>pilot</td>\n",
       "      <td>11508.474576</td>\n",
       "      <td>35000.0000</td>\n",
       "      <td>0.108475</td>\n",
       "      <td>0.268041</td>\n",
       "      <td>0.116279</td>\n",
       "    </tr>\n",
       "  </tbody>\n",
       "</table>\n",
       "</div>"
      ],
      "text/plain": [
       "  test_grp          ARPU       ARPAU        CR  CR_active  CR_active_math\n",
       "0  control   4540.983607  10820.3125  0.049180   0.117188        0.080000\n",
       "1    pilot  11508.474576  35000.0000  0.108475   0.268041        0.116279"
      ]
     },
     "execution_count": 75,
     "metadata": {},
     "output_type": "execute_result"
    }
   ],
   "source": [
    "# Запрос на получение ARPU, ARPAU, CR, CR_ACTIVE, CR_ACTIVE_MATH\n",
    "query = \"\"\"\n",
    "WITH user_activity AS (\n",
    "--Для каждого пользователя находим общее количество решенных задач, а также общее количество решенных задач по математике\n",
    "    SELECT\n",
    "        st_id,\n",
    "        SUM(CASE WHEN correct = 1 THEN 1 ELSE 0 END) AS total_correct,\n",
    "        SUM(CASE WHEN correct = 1 AND subject = 'Math' THEN 1 ELSE 0 END) AS math_correct\n",
    "    FROM\n",
    "        peas\n",
    "    GROUP BY\n",
    "        st_id\n",
    "),\n",
    "-- Список активных пользователей, у которых больше 10 правильно решенных задач\n",
    "active_users AS (\n",
    "    SELECT\n",
    "        st_id\n",
    "    FROM\n",
    "        user_activity\n",
    "    WHERE\n",
    "        total_correct > 10\n",
    "),\n",
    "-- Список активных пользователей по математике, у которых больше 2 правильно решенных задач по математике\n",
    "active_math_users AS (\n",
    "    SELECT\n",
    "        st_id\n",
    "    FROM\n",
    "        user_activity\n",
    "    WHERE\n",
    "        math_correct >= 2\n",
    "),\n",
    "-- Для каждого пользователя, принадлежащего какой либо группе, находим количество потраченных денег \n",
    "combined AS (\n",
    "    SELECT\n",
    "        s.st_id,\n",
    "        s.test_grp,\n",
    "        f.subject subject,\n",
    "        COALESCE(f.money, 0) AS money\n",
    "    FROM\n",
    "        studs s\n",
    "    LEFT JOIN\n",
    "        final_project_check f ON s.st_id = f.st_id\n",
    "),\n",
    "aggregated AS (\n",
    "    SELECT\n",
    "        test_grp,\n",
    "        COUNT(DISTINCT c.st_id) AS total_users, --Общее количество пользователей в каждой группе\n",
    "        COUNT(DISTINCT CASE WHEN c.money > 0 THEN c.st_id END) AS paying_users, -- КОличество платящих пользователей в каждой группе\n",
    "        COUNT(DISTINCT CASE WHEN c.money > 0 THEN a.st_id END) as paying_active_users, --Количество платящих активных пользователей в каждой группе\n",
    "        COUNT(DISTINCT CASE WHEN c.money > 0 and c.subject='Math' THEN a_math.st_id END) as paying_active_math_users, --КОличество платящих активных \n",
    "        SUM(COALESCE(c.money, 0)) AS total_revenue, --Общая выручка по каждой группе\n",
    "        COUNT(DISTINCT a.st_id) AS active_users, --Общее количество активных пользователей в каждой группее\n",
    "        COUNT(DISTINCT a_math.st_id) AS active_math_users --Общее количество активных пользователей по математике в каждой группе\n",
    "    FROM\n",
    "        combined c\n",
    "    LEFT JOIN\n",
    "        active_users a ON c.st_id = a.st_id\n",
    "    LEFT JOIN\n",
    "        active_math_users a_math ON c.st_id = a_math.st_id\n",
    "    GROUP BY\n",
    "        test_grp\n",
    "),\n",
    "metrics AS \n",
    "(\n",
    "    SELECT\n",
    "        test_grp,\n",
    "        total_users,\n",
    "        paying_users,\n",
    "        total_revenue,\n",
    "        -- ARPU: Средний доход на пользователя\n",
    "        total_revenue / NULLIF(total_users, 0) AS ARPU,\n",
    "        -- ARPAU: Средний доход на активного пользователя\n",
    "        total_revenue / NULLIF(active_users, 0) AS ARPAU,\n",
    "        -- CR: Конверсионный коэффициент (доля платящих пользователей)\n",
    "        paying_users  / total_users CR,\n",
    "        -- CR: Конверсионный коэффициент (доля активных пользователей в покупку)\n",
    "        paying_active_users / active_users CR_active,\n",
    "        -- CR: Конверсионный коэффициент (доля активных пользователей в покупку курса по математике)\n",
    "        paying_active_math_users / active_math_users CR_active_math\n",
    "    FROM\n",
    "        aggregated\n",
    ")\n",
    "select \n",
    "    test_grp,\n",
    "    ARPU,\n",
    "    ARPAU,\n",
    "    CR,\n",
    "    CR_active,\n",
    "    CR_active_math\n",
    "from metrics\n",
    "\"\"\"\n",
    "\n",
    "df = ph.read_clickhouse(query, connection=connection)\n",
    "df"
   ]
  },
  {
   "cell_type": "code",
   "execution_count": 84,
   "metadata": {},
   "outputs": [],
   "source": []
  },
  {
   "cell_type": "code",
   "execution_count": 76,
   "metadata": {},
   "outputs": [],
   "source": [
    "# ЗАДАНИЕ №3\n",
    "def func1(groups, checks, active_studs):\n",
    "\n",
    "    base_url = 'https://cloud-api.yandex.net/v1/disk/public/resources/download?'\n",
    "    public_key = 'https://yadi.sk/d/5Kxrz02m3IBUwQ'  # Сюда вписываете вашу ссылку\n",
    "\n",
    "    # Получаем загрузочную ссылку\n",
    "    final_url = base_url + urlencode(dict(public_key=public_key))\n",
    "    response = requests.get(final_url)\n",
    "    download_url = response.json()['href']\n",
    "    download_response = requests.get(download_url)\n",
    "\n",
    "    # Чтение CSV файла из ссылки\n",
    "    groups_add = pd.read_csv(download_url)\n",
    "\n",
    "    # Добавляем столбец активности студентов\n",
    "    active_studs['active'] = 1\n",
    "\n",
    "    # Переименование столбца для объединения\n",
    "    checks = checks.rename(columns={'student_id': 'id'})\n",
    "    active_studs = active_studs.rename(columns={'student_id': 'id'})\n",
    "    # Объединение групп и переименование столбца\n",
    "    shared_group = pd.concat([groups, groups_add]).rename(columns={'grp': 'group'})\n",
    "\n",
    "    # Объединение активных студентов и платежей\n",
    "    active_checks = active_studs.merge(checks, on='id', how='left').rename(columns={'rev': 'revenue'})\n",
    "\n",
    "    # Финальное объединение данных\n",
    "    general_file = shared_group.merge(active_checks, on='id', how='left').fillna(0)\n",
    "\n",
    "    # Фильтрация только активных студентов\n",
    "    general_file_active = general_file.query('active==1')\n",
    "\n",
    "    # Отбор групп А и Б среди платящих пользователей\n",
    "    group_A = general_file_active.query('group == \"A\" and revenue > 0')\n",
    "    group_B = general_file_active.query('group == \"B\" and revenue > 0')\n",
    "    # Расчет метрик\n",
    "    CR_A = round(group_A.id.count() / general_file_active.query('group == \"A\"').id.count(), 4)\n",
    "    CR_B = round(group_B.id.count() / general_file_active.query('group == \"B\"').id.count(), 4)\n",
    "    ARPPU_A = round(group_A.revenue.sum() / group_A.id.count(), 2)\n",
    "    ARPPU_B = round(group_B.revenue.sum() / group_B.id.count(), 2)\n",
    "\n",
    "\n",
    "    # Создание таблицы с метриками\n",
    "    metrics = pd.DataFrame({\n",
    "                'group': ['A', 'B'], \n",
    "                'total_sum': [group_A.revenue.sum(), group_B.revenue.sum()],\n",
    "                'count_users': [general_file_active.query('group==\"A\"').id.count(),\n",
    "                                general_file_active.query('group==\"B\"').id.count()],\n",
    "                'count_customers': [group_A.id.count(), group_B.id.count()],\n",
    "                'CR': [CR_A, CR_B],\n",
    "                'ARPPU': [ARPPU_A, ARPPU_B]\n",
    "            })\n",
    "    return metrics"
   ]
  },
  {
   "cell_type": "code",
   "execution_count": 77,
   "metadata": {},
   "outputs": [
    {
     "data": {
      "text/html": [
       "<div>\n",
       "<style scoped>\n",
       "    .dataframe tbody tr th:only-of-type {\n",
       "        vertical-align: middle;\n",
       "    }\n",
       "\n",
       "    .dataframe tbody tr th {\n",
       "        vertical-align: top;\n",
       "    }\n",
       "\n",
       "    .dataframe thead th {\n",
       "        text-align: right;\n",
       "    }\n",
       "</style>\n",
       "<table border=\"1\" class=\"dataframe\">\n",
       "  <thead>\n",
       "    <tr style=\"text-align: right;\">\n",
       "      <th></th>\n",
       "      <th>group</th>\n",
       "      <th>total_sum</th>\n",
       "      <th>count_users</th>\n",
       "      <th>count_customers</th>\n",
       "      <th>CR</th>\n",
       "      <th>ARPPU</th>\n",
       "    </tr>\n",
       "  </thead>\n",
       "  <tbody>\n",
       "    <tr>\n",
       "      <th>0</th>\n",
       "      <td>A</td>\n",
       "      <td>72820.0000</td>\n",
       "      <td>1538</td>\n",
       "      <td>78</td>\n",
       "      <td>0.0507</td>\n",
       "      <td>933.59</td>\n",
       "    </tr>\n",
       "    <tr>\n",
       "      <th>1</th>\n",
       "      <td>B</td>\n",
       "      <td>394974.0035</td>\n",
       "      <td>6803</td>\n",
       "      <td>314</td>\n",
       "      <td>0.0462</td>\n",
       "      <td>1257.88</td>\n",
       "    </tr>\n",
       "  </tbody>\n",
       "</table>\n",
       "</div>"
      ],
      "text/plain": [
       "  group    total_sum  count_users  count_customers      CR    ARPPU\n",
       "0     A   72820.0000         1538               78  0.0507   933.59\n",
       "1     B  394974.0035         6803              314  0.0462  1257.88"
      ]
     },
     "execution_count": 77,
     "metadata": {},
     "output_type": "execute_result"
    }
   ],
   "source": [
    "func1(groups, checks, active_stud)"
   ]
  },
  {
   "cell_type": "code",
   "execution_count": 78,
   "metadata": {},
   "outputs": [],
   "source": [
    "# Пишем функцию для автоматического построения графиков по метрикам\n",
    "\n",
    "def do_graphs(data):\n",
    "    #  Устанавливаем размер шрифта на графикам\n",
    "    sns.set(font_scale = 1.2, rc={'figure.figsize':(16,4)})\n",
    "    fig, ax = plt.subplots(nrows=1, ncols=2)\n",
    "    \n",
    "    # Строим график для CR\n",
    "    sns.barplot(data=data, x='group', y = 'CR', ax=ax[0])\n",
    "    ax[0].set(xlabel = '', ylabel= '', title = 'CR')\n",
    "    \n",
    "    # Строим график для ARPPU\n",
    "    sns.barplot(data=data, x='group', y = 'ARPPU', ax=ax[1])\n",
    "    ax[1].set(xlabel = '', ylabel= '', title = 'ARPPU')\n",
    "    plt.show()"
   ]
  },
  {
   "cell_type": "code",
   "execution_count": 79,
   "metadata": {},
   "outputs": [
    {
     "data": {
      "image/png": "[encoded data removed]",
      "text/plain": [
       "<Figure size 1152x288 with 2 Axes>"
      ]
     },
     "metadata": {},
     "output_type": "display_data"
    }
   ],
   "source": [
    "do_graphs(func1(groups, checks, active_stud))"
   ]
  },
  {
   "cell_type": "code",
   "execution_count": null,
   "metadata": {},
   "outputs": [],
   "source": []
  }
 ],
 "metadata": {
  "kernelspec": {
   "display_name": "Python 3",
   "language": "python",
   "name": "python3"
  },
  "language_info": {
   "codemirror_mode": {
    "name": "ipython",
    "version": 3
   },
   "file_extension": ".py",
   "mimetype": "text/x-python",
   "name": "python",
   "nbconvert_exporter": "python",
   "pygments_lexer": "ipython3",
   "version": "3.7.3"
  }
 },
 "nbformat": 4,
 "nbformat_minor": 4
}
